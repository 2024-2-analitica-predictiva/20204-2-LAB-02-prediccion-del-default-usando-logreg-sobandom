{
 "cells": [
  {
   "cell_type": "code",
   "execution_count": 1,
   "metadata": {},
   "outputs": [
    {
     "name": "stdout",
     "output_type": "stream",
     "text": [
      "Valores únicos en 'EDUCATION' después de agrupar mayores a 4:\n",
      "[ 3.  2.  1.  4. nan]\n",
      "Limpieza de 'EDUCATION' completada correctamente.\n",
      "Valores únicos en 'EDUCATION' después de agrupar mayores a 4:\n",
      "[ 2.  3.  1.  4. nan]\n",
      "Limpieza de 'EDUCATION' completada correctamente.\n"
     ]
    }
   ],
   "source": [
    "import pandas as pd  #  type: ignore\n",
    "import numpy as np\n",
    "\n",
    "# Cargar los datos\n",
    "dataset_train = pd.read_csv(\n",
    "    \"../files/input/train_data.csv.zip\",\n",
    "    compression=\"zip\",\n",
    ")\n",
    "#train_data.head()\n",
    "\n",
    "dataset_test = pd.read_csv(\n",
    "    \"../files/input/test_data.csv.zip\",\n",
    "    compression=\"zip\",\n",
    ")\n",
    "#test_data.head()\n",
    "\n",
    "# Función para limpiar los datasets\n",
    "def clean_dataset(data):\n",
    "    # Renombrar la columna 'default payment next month' a 'default'\n",
    "    data = data.rename(columns={\"default payment next month\": \"default\"})\n",
    "    # Eliminar la columna 'ID'\n",
    "    if \"ID\" in data.columns:\n",
    "        data = data.drop(columns=[\"ID\"])\n",
    "    \n",
    "    # Convertir valores no válidos a NaN\n",
    "    data['EDUCATION'] = data['EDUCATION'].apply(lambda x: x if x > 0 else np.nan)\n",
    "    data['MARRIAGE'] = data['MARRIAGE'].apply(lambda x: x if x > 0 else np.nan)\n",
    "\n",
    "    # Agrupar valores mayores a 4 en la columna 'EDUCATION' como \"others\" (valor 4)\n",
    "    data['EDUCATION'] = data['EDUCATION'].apply(lambda x: 4 if x > 4 else x)\n",
    "    \n",
    "    # Validación explícita: Imprimir valores únicos\n",
    "    print(\"Valores únicos en 'EDUCATION' después de agrupar mayores a 4:\")\n",
    "    print(data['EDUCATION'].unique())\n",
    "    \n",
    "    # Eliminar registros con valores faltantes\n",
    "    data = data.dropna()\n",
    "\n",
    "    # Validación final: Asegurarnos de que no haya valores mayores a 4\n",
    "    if (data['EDUCATION'] > 4).any():\n",
    "        print(\"Error: Existen valores mayores a 4 en 'EDUCATION'\")\n",
    "    else:\n",
    "        print(\"Limpieza de 'EDUCATION' completada correctamente.\")\n",
    "    \n",
    "    return data\n",
    "\n",
    "# Limpiar los datasets\n",
    "dataset_train = clean_dataset(dataset_train)\n",
    "dataset_test = clean_dataset(dataset_test)\n"
   ]
  },
  {
   "cell_type": "code",
   "execution_count": 2,
   "metadata": {},
   "outputs": [
    {
     "data": {
      "text/plain": [
       "0       1\n",
       "1       0\n",
       "2       0\n",
       "3       0\n",
       "4       0\n",
       "       ..\n",
       "8995    0\n",
       "8996    0\n",
       "8997    0\n",
       "8998    1\n",
       "8999    1\n",
       "Name: default, Length: 8979, dtype: int64"
      ]
     },
     "execution_count": 2,
     "metadata": {},
     "output_type": "execute_result"
    }
   ],
   "source": [
    "# Paso 2.\n",
    "# Divida los datasets en x_train, y_train, x_test, y_test.\n",
    "y_train=dataset_train.copy()\n",
    "y_train=y_train.pop(\"default\")\n",
    "\n",
    "x_train = dataset_train.copy()\n",
    "x_train.pop(\"default\")\n",
    "\n",
    "y_test=dataset_test.copy()\n",
    "y_test=y_test.pop(\"default\")\n",
    "\n",
    "x_test = dataset_test.copy()\n",
    "x_test.pop(\"default\")"
   ]
  },
  {
   "cell_type": "code",
   "execution_count": 3,
   "metadata": {},
   "outputs": [
    {
     "name": "stdout",
     "output_type": "stream",
     "text": [
      "\n",
      "Pipeline de clasificación ajustado exitosamente.\n"
     ]
    }
   ],
   "source": [
    "\n",
    "# - Escala las demas variables al intervalo [0, 1].\n",
    "# - Selecciona las K mejores caracteristicas.\n",
    "# - Ajusta un modelo de regresion logistica.\n",
    "\n",
    "# Paso 3.\n",
    "# Cree un pipeline para el modelo de clasificación. Este pipeline debe\n",
    "# contener las siguientes capas:\n",
    "# - Transforma las variables categoricas usando el método\n",
    "#   one-hot-encoding.\n",
    "\n",
    "from sklearn.compose import ColumnTransformer\n",
    "from sklearn.linear_model import LogisticRegression\n",
    "from sklearn.pipeline import Pipeline\n",
    "from sklearn.preprocessing import OneHotEncoder\n",
    "from sklearn.preprocessing import MinMaxScaler\n",
    "import pandas as pd\n",
    "\n",
    "variables_categoricas = [\"SEX\", \"EDUCATION\", \"MARRIAGE\"] \n",
    "\n",
    "# Crear el preprocesador que aplica el transformador a las columnas categóricas\n",
    "# - Escala las demas variables al intervalo [0, 1].\n",
    "preprocessor = ColumnTransformer(\n",
    "    transformers=[\n",
    "        ('cat', OneHotEncoder(handle_unknown=\"ignore\"), ['SEX', 'EDUCATION', 'MARRIAGE']),\n",
    "        ('num', MinMaxScaler(), list(set(x_test.columns) - set(variables_categoricas)))\n",
    "    ],\n",
    "    remainder='passthrough'\n",
    ")\n",
    "\n",
    "# - Selecciona las K mejores caracteristicas.\n",
    "from sklearn.feature_selection import SelectKBest,  f_classif\n",
    "\n",
    "# Crear el pipeline que incluye el preprocesador, el scaler, el selector y el modelo de regresion logistica\n",
    "pipeline = Pipeline(steps=[\n",
    "    ('preprocessor', preprocessor),\n",
    "    ('selector', SelectKBest(score_func=f_classif, k=10)),\n",
    "    ('classifier', LogisticRegression(random_state=42, max_iter=1000))\n",
    "])\n",
    "\n",
    "#Entrenar el pipeline\n",
    "pipeline.fit(x_train, y_train)\n",
    "\n",
    "print(\"\\nPipeline de clasificación ajustado exitosamente.\")"
   ]
  },
  {
   "cell_type": "code",
   "execution_count": 4,
   "metadata": {},
   "outputs": [
    {
     "name": "stdout",
     "output_type": "stream",
     "text": [
      "\n",
      "Mejores parámetros encontrados:\n",
      "{'classifier__C': 1, 'classifier__penalty': 'l2', 'classifier__solver': 'lbfgs', 'selector__k': 1}\n",
      "Mejor precisión balanceada (validación cruzada): 0.6393\n"
     ]
    }
   ],
   "source": [
    "# Paso 4.\n",
    "# Optimice los hiperparametros del pipeline usando validación cruzada.\n",
    "# Use 10 splits para la validación cruzada. Use la función de precision\n",
    "# balanceada para medir la precisión del modelo.\n",
    "# Paso 4.\n",
    "# Optimice los hiperparametros del pipeline usando validación cruzada.\n",
    "# Use 10 splits para la validación cruzada. Use la función de precision\n",
    "# balanceada para medir la precisión del modelo.\n",
    "#\n",
    "from sklearn.model_selection import GridSearchCV\n",
    "from sklearn.metrics import precision_score, balanced_accuracy_score, recall_score, f1_score\n",
    "\n",
    "# Definir los hiperparametros a optimizar\n",
    "param_grid = {\n",
    "    'selector__k': range(1, len(x_train.columns) + 1),\n",
    "    \"classifier__C\": [0.01, 0.1, 1, 10, 80],  # Regularización de la regresión logística\n",
    "    \"classifier__penalty\": [\"l2\"],  # Tipo de penalización\n",
    "    \"classifier__solver\": [\"lbfgs\", \"liblinear\", \"saga\"],  # Solvers compatibles con L2\n",
    "}\n",
    "\n",
    "\n",
    "\n",
    "# Realizar la búsqueda de hiperparametros\n",
    "best_model = GridSearchCV(\n",
    "    pipeline, param_grid, cv=10, scoring='balanced_accuracy', n_jobs=-1)\n",
    "\n",
    "\n",
    "# Ajustar el modelo\n",
    "best_model.fit(x_train, y_train)\n",
    "\n",
    "# Mostrar los mejores parámetros encontrados y la puntuación\n",
    "print(\"\\nMejores parámetros encontrados:\")\n",
    "print(best_model.best_params_)\n",
    "print(f\"Mejor precisión balanceada (validación cruzada): {best_model.best_score_:.4f}\")\n",
    "\n",
    "# Actualizar el pipeline con los mejores parámetros encontrados\n",
    "best_model_1 = best_model.best_estimator_"
   ]
  },
  {
   "cell_type": "code",
   "execution_count": 5,
   "metadata": {},
   "outputs": [],
   "source": [
    "# Paso 5.\n",
    "# Guarde el modelo (comprimido con gzip) como \"files/models/model.pkl.gz\".\n",
    "# Recuerde que es posible guardar el modelo comprimido usanzo la libreria gzip.\n",
    "import os\n",
    "import joblib\n",
    "import gzip\n",
    "import pickle\n",
    "\n",
    "# Guardar el objeto GridSearchCV completo\n",
    "ruta_modelo = '../files/models/model.pkl.gz'\n",
    "os.makedirs(os.path.dirname(ruta_modelo), exist_ok=True)\n",
    "with gzip.open(ruta_modelo, 'wb') as f:\n",
    "     pickle.dump(best_model, f)"
   ]
  },
  {
   "cell_type": "code",
   "execution_count": 6,
   "metadata": {},
   "outputs": [],
   "source": [
    "# Paso 6.\n",
    "# Calcule las metricas de precision, precision balanceada, recall,\n",
    "# y f1-score para los conjuntos de entrenamiento y prueba.\n",
    "# Guardelas en el archivo files/output/metrics.json. Cada fila\n",
    "# del archivo es un diccionario con las metricas de un modelo.\n",
    "# Este diccionario tiene un campo para indicar si es el conjunto\n",
    "# de entrenamiento o prueba. Por ejemplo:\n",
    "#\n",
    "# {'type': 'metrics', 'dataset': 'train', 'precision': 0.8, 'balanced_accuracy': 0.7, 'recall': 0.9, 'f1_score': 0.85}\n",
    "# {'type': 'metrics', 'dataset': 'test', 'precision': 0.7, 'balanced_accuracy': 0.6, 'recall': 0.8, 'f1_score': 0.75}\n",
    "#\n",
    "\n",
    "import json\n",
    "\n",
    "# Calcular las metricas\n",
    "metrics = { 'type': \"metrics\",\n",
    "    'dataset': 'train',\n",
    "    'precision': precision_score(y_train, best_model_1.predict(x_train)),\n",
    "    'balanced_accuracy': balanced_accuracy_score(y_train, best_model_1.predict(x_train)),\n",
    "    'recall': recall_score(y_train, best_model_1.predict(x_train)),\n",
    "    'f1_score': f1_score(y_train, best_model_1.predict(x_train)),\n",
    "}\n",
    "\n",
    "metrics_test = { 'type': \"metrics\",\n",
    "    'dataset': 'test',\n",
    "    'precision': precision_score(y_test, best_model_1.predict(x_test)),\n",
    "    'balanced_accuracy': balanced_accuracy_score(y_test, best_model_1.predict(x_test)),\n",
    "    'recall': recall_score(y_test, best_model_1.predict(x_test)),\n",
    "    'f1_score': f1_score(y_test, best_model_1.predict(x_test)),}\n",
    "\n",
    "# Guardar las métricas en formato JSON\n",
    "ruta= \"../files/output\"\n",
    "ruta_json= os.path.join(ruta, \"metrics.json\")\n",
    "\n",
    "# Crear el directorio\n",
    "os.makedirs(ruta, exist_ok=True)\n",
    "\n",
    "with open(ruta_json, 'w') as f:\n",
    "    json.dump(metrics, f, ensure_ascii=False) \n",
    "    f.write('\\n')\n",
    "    json.dump(metrics_test, f, ensure_ascii=False)  \n",
    "    f.write('\\n')"
   ]
  },
  {
   "cell_type": "code",
   "execution_count": 7,
   "metadata": {},
   "outputs": [],
   "source": [
    "# Paso 7.\n",
    "# Calcule las matrices de confusion para los conjuntos de entrenamiento y\n",
    "# prueba. Guardelas en el archivo files/output/metrics.json. Cada fila\n",
    "# del archivo es un diccionario con las metricas de un modelo.\n",
    "# de entrenamiento o prueba. Por ejemplo:\n",
    "#\n",
    "# {'type': 'cm_matrix', 'dataset': 'train', 'true_0': {\"predicted_0\": 15562, \"predicte_1\": 666}, 'true_1': {\"predicted_0\": 3333, \"predicted_1\": 1444}}\n",
    "# {'type': 'cm_matrix', 'dataset': 'test', 'true_0': {\"predicted_0\": 15562, \"predicte_1\": 650}, 'true_1': {\"predicted_0\": 2490, \"predicted_1\": 1420}}\n",
    "#\n",
    "\n",
    "from sklearn.metrics import confusion_matrix\n",
    "\n",
    "# Calcular las matrices de confusión\n",
    "cm_train = confusion_matrix(y_train, best_model_1.predict(x_train))\n",
    "cm_test = confusion_matrix(y_test, best_model_1.predict(x_test))\n",
    "\n",
    "cm_train_dict = {\n",
    "    'type': 'cm_matrix',\n",
    "    'dataset': 'train',\n",
    "    'true_0': {'predicted_0': int(cm_train[0, 0]), 'predicted_1': int(cm_train[0, 1])},\n",
    "    'true_1': {'predicted_0': int(cm_train[1, 0]), 'predicted_1': int(cm_train[1, 1])}\n",
    "}\n",
    "\n",
    "cm_test_dict = {\n",
    "    'type': 'cm_matrix',\n",
    "    'dataset': 'test',\n",
    "    'true_0': {'predicted_0': int(cm_test[0, 0]), 'predicted_1': int(cm_test[0, 1])},\n",
    "    'true_1': {'predicted_0': int(cm_test[1, 0]), 'predicted_1': int(cm_test[1, 1])}\n",
    "}\n",
    "\n",
    "\n",
    "#guardar en json\n",
    "with open(ruta_json, 'a', encoding='utf-8') as f:\n",
    "    json.dump(cm_train_dict, f, ensure_ascii=False) \n",
    "    f.write('\\n')\n",
    "    json.dump(cm_test_dict, f, ensure_ascii=False)  \n",
    "    f.write('\\n')"
   ]
  },
  {
   "cell_type": "code",
   "execution_count": 8,
   "metadata": {},
   "outputs": [
    {
     "data": {
      "text/plain": [
       "\"<class 'sklearn.model_selection._search.GridSearchCV'>\""
      ]
     },
     "execution_count": 8,
     "metadata": {},
     "output_type": "execute_result"
    }
   ],
   "source": [
    "with gzip.open(\"../files/models/model.pkl.gz\", \"rb\") as file:\n",
    "        model = pickle.load(file)\n",
    "str(type(model))\n"
   ]
  }
 ],
 "metadata": {
  "kernelspec": {
   "display_name": ".venv",
   "language": "python",
   "name": "python3"
  },
  "language_info": {
   "codemirror_mode": {
    "name": "ipython",
    "version": 3
   },
   "file_extension": ".py",
   "mimetype": "text/x-python",
   "name": "python",
   "nbconvert_exporter": "python",
   "pygments_lexer": "ipython3",
   "version": "3.13.0"
  }
 },
 "nbformat": 4,
 "nbformat_minor": 2
}
